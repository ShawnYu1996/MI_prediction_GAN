{
 "cells": [
  {
   "cell_type": "code",
   "execution_count": 87,
   "id": "0aea7191",
   "metadata": {},
   "outputs": [],
   "source": [
    "import numpy as np\n",
    "from sklearn.model_selection import train_test_split\n",
    " #首先，读取.CSV文件成矩阵的形式。\n",
    "my_matrix = np.loadtxt(open(\"data3.csv\",encoding='UTF-8'),delimiter=\",\",skiprows=1)\n",
    "#print(my_matrix)\n",
    "X, y = my_matrix[:,:-1],my_matrix[:,-1]\n",
    " #对于矩阵而言，将矩阵倒数第一列之前的数值给了X（输入数据），将矩阵大最后一列的数值给了y（标签）\n",
    "from sklearn import preprocessing   \n",
    "import numpy as np\n",
    "\n"
   ]
  },
  {
   "cell_type": "code",
   "execution_count": null,
   "id": "cfa43276",
   "metadata": {},
   "outputs": [],
   "source": []
  },
  {
   "cell_type": "code",
   "execution_count": 88,
   "id": "a87b4f79",
   "metadata": {},
   "outputs": [],
   "source": [
    "min_max_scaler = preprocessing.MinMaxScaler() \n",
    "X = min_max_scaler.fit_transform(X)\n"
   ]
  },
  {
   "cell_type": "code",
   "execution_count": 89,
   "id": "503e2722",
   "metadata": {},
   "outputs": [
    {
     "data": {
      "text/plain": [
       "1505"
      ]
     },
     "execution_count": 89,
     "metadata": {},
     "output_type": "execute_result"
    }
   ],
   "source": [
    "len(X)\n"
   ]
  },
  {
   "cell_type": "code",
   "execution_count": 90,
   "id": "bce0d5e5",
   "metadata": {},
   "outputs": [],
   "source": [
    "sick_data = []\n",
    "health_data = []\n",
    "sick_label = []\n",
    "health_label = []\n",
    "\n",
    "\n",
    "for i in range(len(X)):\n",
    "    if y[i] == 1:\n",
    "        sick_data.append(X[i])\n",
    "        sick_label.append(1)\n",
    "    else:\n",
    "        health_data.append(X[i])\n",
    "        health_label.append(0)\n",
    "        "
   ]
  },
  {
   "cell_type": "code",
   "execution_count": 91,
   "id": "97e2f12c",
   "metadata": {},
   "outputs": [
    {
     "name": "stdout",
     "output_type": "stream",
     "text": [
      "129\n"
     ]
    }
   ],
   "source": [
    "print(len(sick_data))"
   ]
  },
  {
   "cell_type": "code",
   "execution_count": 92,
   "id": "e933a01f",
   "metadata": {},
   "outputs": [],
   "source": [
    "np.save('sick_data.npy',sick_data)\n",
    "np.save('sick_label.npy',sick_label)\n",
    "np.save('health_data.npy',health_data)\n",
    "np.save('health_label.npy',health_label)"
   ]
  },
  {
   "cell_type": "code",
   "execution_count": 93,
   "id": "7689dd9c",
   "metadata": {},
   "outputs": [],
   "source": [
    "S4AfterNor = np.hstack((X,y.reshape(-1,1)))\n",
    "np.savetxt('S4AfterNor.csv',S4AfterNor,delimiter=',')"
   ]
  },
  {
   "cell_type": "code",
   "execution_count": null,
   "id": "f03528bc",
   "metadata": {},
   "outputs": [],
   "source": []
  },
  {
   "cell_type": "code",
   "execution_count": null,
   "id": "9abf17fe",
   "metadata": {},
   "outputs": [],
   "source": []
  },
  {
   "cell_type": "code",
   "execution_count": 98,
   "id": "b8890ffe",
   "metadata": {},
   "outputs": [],
   "source": [
    "sick_fakedata = np.load('sick_fakedata_35.npy')\n",
    "sick_fakelabel = np.load('sick_fakelabel.npy')"
   ]
  },
  {
   "cell_type": "code",
   "execution_count": 97,
   "id": "4a5ffe56",
   "metadata": {},
   "outputs": [],
   "source": [
    "New_data = min_max_scaler.inverse_transform(sick_fakedata)\n",
    "np.savetxt('Generated dataset.csv',New_data,delimiter=',')"
   ]
  },
  {
   "cell_type": "code",
   "execution_count": null,
   "id": "6e8d5ed5",
   "metadata": {},
   "outputs": [],
   "source": []
  },
  {
   "cell_type": "code",
   "execution_count": null,
   "id": "0be8a413",
   "metadata": {},
   "outputs": [],
   "source": []
  },
  {
   "cell_type": "code",
   "execution_count": null,
   "id": "ee4efcee",
   "metadata": {},
   "outputs": [],
   "source": []
  },
  {
   "cell_type": "code",
   "execution_count": 100,
   "id": "f74f264e",
   "metadata": {},
   "outputs": [],
   "source": [
    "import pandas as pd\n",
    "original_data = X\n",
    "int_cols = list()\n",
    "inverse_original = min_max_scaler.inverse_transform(original_data)    \n",
    "for i in range(inverse_original.shape[1]):\n",
    "    int_cols.append(inverse_original[:,i].sum() == inverse_original[:,i].astype(int).sum())\n",
    "New_data = min_max_scaler.inverse_transform(sick_fakedata)\n",
    "New_data[:, int_cols] = (New_data[:, int_cols]+0.5).astype(int)\n",
    "pd.DataFrame(New_data).to_csv('generated_data120.csv')"
   ]
  },
  {
   "cell_type": "code",
   "execution_count": 76,
   "id": "061e6bd6",
   "metadata": {},
   "outputs": [
    {
     "data": {
      "text/plain": [
       "array([[ 6.5098595e+01,  3.1522924e+01,  9.3921846e-01, ...,\n",
       "        -1.4665685e-02, -1.2673620e-02,  3.3440161e-02],\n",
       "       [ 6.5057571e+01,  3.0741371e+01,  9.3143660e-01, ...,\n",
       "         2.2283480e-02,  4.0452804e-02,  5.3816284e-03],\n",
       "       [ 6.5382736e+01,  3.0989843e+01,  9.3563920e-01, ...,\n",
       "         7.1415627e-05, -5.3648311e-03, -3.6918856e-03],\n",
       "       ...,\n",
       "       [ 6.5309349e+01,  2.9656546e+01,  9.2224663e-01, ...,\n",
       "         3.0160194e-02,  5.0086200e-02, -6.7396231e-02],\n",
       "       [ 6.4344360e+01,  3.0615929e+01,  9.1560692e-01, ...,\n",
       "        -3.7492573e-02, -6.9919755e-03, -5.8056541e-02],\n",
       "       [ 6.4732475e+01,  3.0347258e+01,  9.1733909e-01, ...,\n",
       "        -5.9554330e-03,  2.4820924e-02, -4.1708402e-02]], dtype=float32)"
      ]
     },
     "execution_count": 76,
     "metadata": {},
     "output_type": "execute_result"
    }
   ],
   "source": [
    "New_data"
   ]
  },
  {
   "cell_type": "code",
   "execution_count": 77,
   "id": "d291288c",
   "metadata": {},
   "outputs": [],
   "source": [
    "np.savetxt('Generated dataset.csv',New_data,delimiter=',')"
   ]
  },
  {
   "cell_type": "code",
   "execution_count": null,
   "id": "ee5ae079",
   "metadata": {},
   "outputs": [],
   "source": []
  },
  {
   "cell_type": "code",
   "execution_count": 26,
   "id": "cdc38140",
   "metadata": {},
   "outputs": [
    {
     "name": "stdout",
     "output_type": "stream",
     "text": [
      "[[ 6.3204834e+01  3.1602562e+01  9.5390868e-01 ... -5.1576063e-02\n",
      "   7.9001017e-02  4.0687479e-02]\n",
      " [ 6.0733849e+01  2.6564610e+01  8.3733416e-01 ... -1.4333260e-01\n",
      "  -5.2722845e-02 -1.7895232e-01]\n",
      " [ 6.2661400e+01  2.9367680e+01  8.8223714e-01 ... -1.0584051e-01\n",
      "  -3.8920552e-02 -7.8280404e-02]\n",
      " ...\n",
      " [ 6.5912407e+01  2.7728010e+01  8.9611888e-01 ...  2.2803122e-02\n",
      "  -2.0703452e-02  3.5713390e-02]\n",
      " [ 6.4778961e+01  2.8515394e+01  9.0605831e-01 ... -1.4284610e-02\n",
      "  -1.0313705e-02 -1.6850341e-02]\n",
      " [ 6.8313248e+01  2.8167616e+01  8.9513862e-01 ... -3.0089987e-02\n",
      "  -2.2938958e-01 -4.5349237e-01]]\n"
     ]
    }
   ],
   "source": [
    "print(New_data)"
   ]
  },
  {
   "cell_type": "code",
   "execution_count": 35,
   "id": "f58072ad",
   "metadata": {},
   "outputs": [
    {
     "data": {
      "text/plain": [
       "array([0.0952381 , 0.2743641 , 0.73502994, 0.        , 0.        ,\n",
       "       1.        , 0.66666667, 0.29088711, 0.75714286, 0.65248227,\n",
       "       1.        , 1.        , 0.5       , 1.        , 0.51426653,\n",
       "       0.61184792, 0.36888046, 0.13793103, 0.21410579, 0.02902488,\n",
       "       0.43079046, 0.40503836, 0.41479778, 0.34776642, 0.44742736,\n",
       "       0.17216431, 0.62160337, 0.54763499, 0.8263249 , 0.66912587,\n",
       "       0.51144017, 0.64359991, 0.57612661, 0.49918929, 0.70077341,\n",
       "       0.58180332, 0.68907716, 0.38621233, 0.61301193, 0.39182143,\n",
       "       0.5588134 , 0.5373668 , 0.37801787, 0.36877964, 0.6731236 ,\n",
       "       0.79705661, 0.57487501, 0.77347328, 0.85999204, 0.55412732,\n",
       "       0.72961694, 0.4446634 , 0.52805523, 0.45538761, 0.50250545,\n",
       "       0.7647948 , 0.18820209, 0.62806779, 0.48323189, 0.47908271,\n",
       "       0.8460062 , 0.42584675, 0.5258228 , 0.57291115, 0.49101319,\n",
       "       0.68760193, 0.44021536, 0.4147966 , 0.61208477, 0.70388588,\n",
       "       0.41995357, 0.51135123, 0.64769861, 0.57151007, 0.3582545 ,\n",
       "       0.59883188, 0.82491425, 0.62146112, 0.32205054, 0.32300243,\n",
       "       0.54802189, 0.61466273, 0.56055116, 0.32552718, 0.6276059 ,\n",
       "       0.46483894, 0.64644581, 0.53996276, 0.3989907 , 0.25240345,\n",
       "       0.3045245 , 0.30239801, 0.63195345, 0.44033149, 0.5439167 ,\n",
       "       0.54442509, 0.37848599, 0.20584465, 0.36767396, 0.70401549,\n",
       "       0.23184473, 0.61231106, 0.75350797, 0.50616797, 0.46200791,\n",
       "       0.28666074, 0.86753663, 0.38019525, 0.51566418, 0.54361641,\n",
       "       0.3686565 , 0.18957373, 0.68639086, 0.7105221 , 0.53269722,\n",
       "       0.64375148, 0.45261909, 0.53951827, 0.67104067, 0.41945973,\n",
       "       0.55754265, 0.51300875, 0.50100397, 0.43013616, 0.55943142,\n",
       "       0.5236108 , 0.55187181, 0.62584465, 0.76231476, 0.36518083,\n",
       "       0.68015522, 0.63181074, 0.44145317, 0.45209444, 0.57359438,\n",
       "       0.29770868, 0.41168174, 0.72791978, 0.5244596 , 0.52093259,\n",
       "       0.3470158 , 0.5253806 , 0.64058436, 0.89912457, 0.36472823,\n",
       "       0.69737752, 0.66433943, 0.38615787, 0.35081716, 0.69095115,\n",
       "       0.68284728, 0.28944964, 0.5448621 , 0.09893314, 0.21680409,\n",
       "       0.3593478 , 0.45283786, 0.57650084, 0.7204337 , 0.396631  ,\n",
       "       0.53244878, 0.36724821, 0.45265276, 0.40831645, 0.63484246,\n",
       "       0.47742953, 0.58125224, 0.63732166, 0.55798288, 0.62608449,\n",
       "       0.88367137, 0.48154436, 0.3589652 , 0.72885987, 0.78178736,\n",
       "       0.38640617, 0.41586734, 0.62205377, 0.41011867, 0.58058191,\n",
       "       0.68485716, 0.46320761, 0.48180669, 0.52173539, 0.76370728,\n",
       "       0.46863848, 0.50699757, 0.42913714, 0.5082284 , 0.65320739,\n",
       "       0.89521904, 0.62330631, 0.37728515, 0.68222786, 0.46604136,\n",
       "       0.31443208, 0.74798178, 0.72882643, 0.36343907, 0.39009488,\n",
       "       0.2424495 , 0.40967597, 0.51320125, 0.32950928, 0.60435556,\n",
       "       0.48803636, 0.69286466, 0.82260275, 0.4299158 , 0.11911456,\n",
       "       0.31769503, 0.4669749 , 0.50906499, 0.65942803, 0.38289433,\n",
       "       0.40233207, 0.81892841, 0.69285638, 0.59796826, 0.14239078,\n",
       "       0.2008224 , 0.60051706, 0.56744928, 0.34999743, 0.65543648,\n",
       "       0.51894884, 0.65435005, 0.52422111, 0.48307468, 0.73319108,\n",
       "       0.58792232, 0.26942627, 0.73436342, 0.52702017, 0.6130128 ,\n",
       "       0.80751267, 0.41319958, 0.54862173, 0.28030575, 0.68984036,\n",
       "       0.71547387, 0.63005442, 0.50677077, 0.68110942, 0.43667634,\n",
       "       0.51875992, 0.84752257, 0.69758735, 0.51946218, 0.25971661,\n",
       "       0.47483712, 0.75405473, 0.7242889 , 0.35704322, 0.46171018,\n",
       "       0.7717448 , 0.82196907, 0.63153088, 0.437508  , 0.53832647,\n",
       "       0.17422836, 0.44077875, 0.4025789 , 0.63393697, 0.86713115,\n",
       "       0.73899527, 0.59653219, 0.45100952, 0.75959125, 0.48659989,\n",
       "       0.53452616, 0.55168196, 0.49574576, 0.42922367, 0.56860129,\n",
       "       0.56038777, 1.        , 0.59887159, 0.59905586, 0.64139376,\n",
       "       0.48676849, 0.68443475, 0.54709596, 0.25537462, 0.5917833 ,\n",
       "       0.54108698, 0.75422281, 0.68589179, 0.76694206, 0.87314266,\n",
       "       0.64323311, 0.66770312, 0.50244933, 0.50131695, 0.61121233,\n",
       "       0.41941438, 0.59855369, 0.73428754, 0.52537768, 0.52546087,\n",
       "       0.61214947, 0.46495016, 0.281776  , 0.62939431, 0.65163576,\n",
       "       0.43896882, 0.75400455, 0.60361209, 0.01516266, 0.44523872,\n",
       "       0.56259883, 0.45372101, 0.51881342, 0.64386873, 0.57418259,\n",
       "       0.45005389, 0.64257828, 0.74465351, 0.95951463, 0.43885807,\n",
       "       0.76275199, 0.45864485, 0.58523228, 0.51675143, 0.49160511,\n",
       "       0.91976505, 0.50816627, 0.71851604, 0.28307583, 0.56724057,\n",
       "       0.59891286, 0.62207358, 0.62066579, 0.44894273, 0.48043012,\n",
       "       0.46647106, 0.46376812, 0.37144028, 0.54785524, 0.51366311,\n",
       "       0.5034008 , 0.61407333, 0.51782912, 0.77131309, 0.38327965,\n",
       "       0.35528294, 0.6663001 , 0.66105964, 0.43972521, 0.9850147 ,\n",
       "       0.59682322, 1.        , 0.61594401, 0.42003587, 0.55613151,\n",
       "       0.44465736, 0.70461518, 0.23666197, 0.50414548, 0.46182022,\n",
       "       0.69939222, 0.51883244, 0.66226928, 0.45391682, 0.89306863,\n",
       "       0.74688959, 0.49404304, 0.45356355, 0.43363104, 0.60741009,\n",
       "       0.55982964, 0.98376628, 0.74037756, 0.30420006, 0.67553414,\n",
       "       0.56273728, 0.31996971, 0.37018167, 0.77762014, 0.55111872,\n",
       "       0.55372979, 0.35107   , 0.55444066])"
      ]
     },
     "execution_count": 35,
     "metadata": {},
     "output_type": "execute_result"
    }
   ],
   "source": []
  },
  {
   "cell_type": "code",
   "execution_count": null,
   "id": "5043395d",
   "metadata": {},
   "outputs": [],
   "source": []
  },
  {
   "cell_type": "code",
   "execution_count": null,
   "id": "3216e8dc",
   "metadata": {},
   "outputs": [],
   "source": []
  },
  {
   "cell_type": "code",
   "execution_count": null,
   "id": "28dee365",
   "metadata": {},
   "outputs": [],
   "source": []
  },
  {
   "cell_type": "code",
   "execution_count": null,
   "id": "db949a72",
   "metadata": {},
   "outputs": [],
   "source": []
  },
  {
   "cell_type": "code",
   "execution_count": null,
   "id": "c76e69cf",
   "metadata": {},
   "outputs": [],
   "source": []
  }
 ],
 "metadata": {
  "kernelspec": {
   "display_name": "Python 3 (ipykernel)",
   "language": "python",
   "name": "python3"
  },
  "language_info": {
   "codemirror_mode": {
    "name": "ipython",
    "version": 3
   },
   "file_extension": ".py",
   "mimetype": "text/x-python",
   "name": "python",
   "nbconvert_exporter": "python",
   "pygments_lexer": "ipython3",
   "version": "3.7.9"
  }
 },
 "nbformat": 4,
 "nbformat_minor": 5
}

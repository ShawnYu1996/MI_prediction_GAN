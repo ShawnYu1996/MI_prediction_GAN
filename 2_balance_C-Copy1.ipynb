{
 "cells": [
  {
   "cell_type": "code",
   "execution_count": 1,
   "id": "1b21abf0",
   "metadata": {},
   "outputs": [
    {
     "name": "stdout",
     "output_type": "stream",
     "text": [
      "1376\n"
     ]
    }
   ],
   "source": [
    "import numpy as np\n",
    "import csv\n",
    "import pandas as pd\n",
    "import torch\n",
    "from torch.autograd import Variable\n",
    "import torch.nn.functional as F\n",
    "import matplotlib.pyplot as plt\n",
    "import torch.nn as nn\n",
    "import torch.utils.data as Data\n",
    "import torchvision\n",
    "import random\n",
    "from sklearn.model_selection import train_test_split\n",
    " #首先，读取.CSV文件成矩阵的形式。\n",
    "\n",
    "sick_data = np.load('sick_data.npy')\n",
    "sick_label = np.load('sick_label.npy')\n",
    "\n",
    "\n",
    "health_data = np.load('health_data.npy')\n",
    "health_label = np.load('health_label.npy')\n",
    "\n",
    "\n",
    "print(len(health_data))"
   ]
  },
  {
   "cell_type": "code",
   "execution_count": 2,
   "id": "ede2e5de",
   "metadata": {},
   "outputs": [],
   "source": [
    "\n",
    "import matplotlib.pyplot as plt\n",
    "#from sklearn.datasets.samples_generator import make_blobs\n",
    "from sklearn.cluster import KMeans\n",
    "from sklearn.metrics import silhouette_score \n"
   ]
  },
  {
   "cell_type": "code",
   "execution_count": 3,
   "id": "c8b96773",
   "metadata": {},
   "outputs": [
    {
     "name": "stdout",
     "output_type": "stream",
     "text": [
      "[2 0 0 0 0 0 0 2 0 0 0 0 0 0 1 0 2 0 1 0 0 0 0 2 2 0 2 0 0 0 2 0 2 0 0 2 0\n",
      " 1 1 0 0 0 1 1 0 0 0 2 2 0 0 2 0 0 0 0 2 2 0 0 0 0 2 0 0 0 0 0 0 0 0 0 0 2\n",
      " 2 2 0 2 2 0 0 2 2 2 0 1 1 0 1 1 0 0 2 0 0 2 0 2 2 2 1 2 0 2 2 1 2 2 2 0 1\n",
      " 1 0 1 1 0 0 2 0 0 2 0 2 2 2 1 2 2 1]\n"
     ]
    },
    {
     "data": {
      "text/plain": [
       "0.11473850124817651"
      ]
     },
     "execution_count": 3,
     "metadata": {},
     "output_type": "execute_result"
    }
   ],
   "source": [
    "model = KMeans(n_clusters=3, random_state=5)\n",
    "y_pred = model.fit_predict(sick_data)\n",
    "print(y_pred)\n",
    "# 用轮廓系数评估的聚类分数\n",
    "silhouette_score(sick_data, y_pred)\n"
   ]
  },
  {
   "cell_type": "code",
   "execution_count": 4,
   "id": "fffe5dee",
   "metadata": {},
   "outputs": [
    {
     "name": "stdout",
     "output_type": "stream",
     "text": [
      "[1 2 0 ... 2 2 2]\n"
     ]
    },
    {
     "data": {
      "text/plain": [
       "0.054999904468060336"
      ]
     },
     "execution_count": 4,
     "metadata": {},
     "output_type": "execute_result"
    }
   ],
   "source": [
    "model = KMeans(n_clusters=3, random_state=2)\n",
    "y_pred_health = model.fit_predict(health_data)\n",
    "print(y_pred_health)\n",
    "# 用轮廓系数评估的聚类分数\n",
    "silhouette_score(health_data, y_pred_health)"
   ]
  },
  {
   "cell_type": "code",
   "execution_count": 5,
   "id": "3c5a1dcc",
   "metadata": {},
   "outputs": [],
   "source": [
    "cls1 = []\n",
    "cls1_label = []\n",
    "cls2 = []\n",
    "cls2_label = []\n",
    "cls3 = []\n",
    "cls3_label = []\n",
    "cls4 = []\n",
    "cls4_label = []\n",
    "cls5 = []\n",
    "cls5_label = []\n",
    "for i in range(len(y_pred)):\n",
    "    if y_pred[i] == 0:\n",
    "        cls1.append(sick_data[i])\n",
    "        cls1_label.append(1)\n",
    "    elif y_pred[i] == 1:\n",
    "        cls2.append(sick_data[i])\n",
    "        cls2_label.append(1)\n",
    "    elif y_pred[i] == 2:\n",
    "        cls3.append(sick_data[i])\n",
    "        cls3_label.append(1)\n",
    "    elif y_pred[i] == 3:\n",
    "        cls4.append(sick_data[i])\n",
    "        cls4_label.append(1)\n",
    "    else:\n",
    "        cls5.append(sick_data[i])\n",
    "        cls5_label.append(1)"
   ]
  },
  {
   "cell_type": "code",
   "execution_count": 6,
   "id": "5d7ab21d",
   "metadata": {},
   "outputs": [],
   "source": [
    "cls1_health = []\n",
    "cls1_health_label = []\n",
    "cls2_health = []\n",
    "cls2_health_label = []\n",
    "cls3_health = []\n",
    "cls3_health_label = []\n",
    "cls4_health = []\n",
    "cls4_health_label = []\n",
    "cls5_health = []\n",
    "cls5_health_label = []\n",
    "for i in range(len(y_pred_health)):\n",
    "    if y_pred_health[i] == 0:\n",
    "        cls1_health.append(health_data[i])\n",
    "        cls1_health_label.append(0)\n",
    "    elif y_pred_health[i] == 1:\n",
    "        cls2_health.append(health_data[i])\n",
    "        cls2_health_label.append(0)\n",
    "    elif y_pred_health[i] == 2:\n",
    "        cls3_health.append(health_data[i])\n",
    "        cls3_health_label.append(0)\n"
   ]
  },
  {
   "cell_type": "code",
   "execution_count": 7,
   "id": "b96f9efe",
   "metadata": {},
   "outputs": [],
   "source": [
    "RS = 33\n",
    "\n",
    "\n",
    "X_train_cls1, X_test_cls1, y_train_cls1, y_test_cls1 = train_test_split(cls1, cls1_label, test_size=0.2,random_state=RS)\n",
    "X_train_cls1, X_val_cls1, y_train_cls1, y_val_cls1 = train_test_split(X_train_cls1, y_train_cls1, test_size=0.2,random_state=RS)\n",
    "X_train_cls2, X_test_cls2, y_train_cls2, y_test_cls2 = train_test_split(cls2, cls2_label, test_size=0.2,random_state=RS)\n",
    "X_train_cls2, X_val_cls2, y_train_cls2, y_val_cls2 = train_test_split(X_train_cls2, y_train_cls2, test_size=0.2,random_state=RS)\n",
    "X_train_cls3, X_test_cls3, y_train_cls3, y_test_cls3 = train_test_split(cls3, cls3_label, test_size=0.2,random_state=RS)\n",
    "X_train_cls3, X_val_cls3, y_train_cls3, y_val_cls3 = train_test_split(X_train_cls3, y_train_cls3, test_size=0.2,random_state=RS)\n",
    "#X_train_cls4, X_test_cls4, y_train_cls4, y_test_cls4 = train_test_split(cls4, cls4_label, test_size=0.2,random_state=0)\n",
    "#X_train_cls4, X_val_cls4, y_train_cls4, y_val_cls4 = train_test_split(X_train_cls4, y_train_cls4, test_size=0.15,random_state=0)\n",
    "#X_train_cls5, X_test_cls5, y_train_cls5, y_test_cls5 = train_test_split(cls5, cls5_label, test_size=0.2,random_state=0)\n",
    "#X_train_cls5, X_val_cls5, y_train_cls5, y_val_cls5 = train_test_split(X_train_cls5, y_train_cls5, test_size=0.15,random_state=0)\n",
    "\n",
    "\n",
    "sick_train = np.vstack((X_train_cls1,X_train_cls2,X_train_cls3))#,X_train_cls4,X_train_cls5))\n",
    "sick_val = np.vstack((X_val_cls1,X_val_cls2,X_val_cls3))#,X_val_cls4,X_val_cls5))\n",
    "sick_test = np.vstack((X_test_cls1,X_test_cls2,X_test_cls3))##,X_test_cls4,X_test_cls5))\n",
    "y_train = np.array(y_train_cls1 + y_train_cls2 + y_train_cls3)# + y_train_cls4+ y_train_cls5)\n",
    "y_val = np.array(y_val_cls1 + y_val_cls2 + y_val_cls3)#+y_val_cls4+y_val_cls5 )\n",
    "y_test = np.array(y_test_cls1 + y_test_cls2 + y_test_cls3)#+ y_test_cls4 + y_test_cls5)"
   ]
  },
  {
   "cell_type": "code",
   "execution_count": 8,
   "id": "c596f262",
   "metadata": {},
   "outputs": [],
   "source": [
    "X_train_cls1_health, X_test_cls1_health, y_train_cls1_health, y_test_cls1_health = train_test_split(cls1_health, cls1_health_label, test_size=0.2,random_state=RS)\n",
    "X_train_cls1_health, X_val_cls1_health, y_train_cls1_health, y_val_cls1_health = train_test_split(X_train_cls1_health, y_train_cls1_health, test_size=0.2,random_state=RS)\n",
    "X_train_cls2_health, X_test_cls2_health, y_train_cls2_health, y_test_cls2_health = train_test_split(cls2_health, cls2_health_label, test_size=0.2,random_state=RS)\n",
    "X_train_cls2_health, X_val_cls2_health, y_train_cls2_health, y_val_cls2_health = train_test_split(X_train_cls2_health, y_train_cls2_health, test_size=0.2,random_state=RS)\n",
    "X_train_cls3_health, X_test_cls3_health, y_train_cls3_health, y_test_cls3_health = train_test_split(cls3_health, cls3_health_label, test_size=0.2,random_state=RS)\n",
    "X_train_cls3_health, X_val_cls3_health, y_train_cls3_health, y_val_cls3_health = train_test_split(X_train_cls3_health, y_train_cls3_health, test_size=0.2,random_state=RS)\n",
    "#X_train_cls4, X_test_cls4, y_train_cls4, y_test_cls4 = train_test_split(cls4, cls4_label, test_size=0.2,random_state=0)\n",
    "#X_train_cls4, X_val_cls4, y_train_cls4, y_val_cls4 = train_test_split(X_train_cls4, y_train_cls4, test_size=0.15,random_state=0)\n",
    "#X_train_cls5, X_test_cls5, y_train_cls5, y_test_cls5 = train_test_split(cls5, cls5_label, test_size=0.2,random_state=0)\n",
    "#X_train_cls5, X_val_cls5, y_train_cls5, y_val_cls5 = train_test_split(X_train_cls5, y_train_cls5, test_size=0.15,random_state=0)\n",
    "\n",
    "\n",
    "health_train = np.vstack((X_train_cls1_health,X_train_cls2_health,X_train_cls3_health))#,X_train_cls4,X_train_cls5))\n",
    "health_val = np.vstack((X_val_cls1_health,X_val_cls2_health,X_val_cls3_health))#,X_val_cls4,X_val_cls5))\n",
    "health_test = np.vstack((X_test_cls1_health,X_test_cls2_health,X_test_cls3_health))##,X_test_cls4,X_test_cls5))\n",
    "y_train_health = np.array(y_train_cls1_health + y_train_cls2_health + y_train_cls3_health)# + y_train_cls4+ y_train_cls5)\n",
    "y_val_health = np.array(y_val_cls1_health + y_val_cls2_health + y_val_cls3_health)#+y_val_cls4+y_val_cls5 )\n",
    "y_test_health = np.array(y_test_cls1_health + y_test_cls2_health + y_test_cls3_health)#+ y_test_cls4 + y_test_cls5)"
   ]
  },
  {
   "cell_type": "code",
   "execution_count": 9,
   "id": "ea74b600",
   "metadata": {},
   "outputs": [],
   "source": [
    "np.save('sick_train_Kmeans_2.npy',sick_train)\n",
    "np.save('sick_test_Kmeans_2.npy',sick_test)\n",
    "np.save('sick_train_Kmeans_label_2.npy',y_train)\n",
    "np.save('sick_test_Kmeans_label_2.npy',y_test)\n",
    "np.save('sick_val_Kmeans_2.npy',sick_val)\n",
    "np.save('sick_val_Kmeans_label_2.npy',y_val)"
   ]
  },
  {
   "cell_type": "code",
   "execution_count": 10,
   "id": "bd1d3f58",
   "metadata": {},
   "outputs": [],
   "source": [
    "np.save('health_train_Kmeans_2.npy',health_train)\n",
    "np.save('health_test_Kmeans_2.npy',health_test)\n",
    "np.save('health_train_Kmeans_label_2.npy',y_train_health)\n",
    "np.save('health_test_Kmeans_label_2.npy',y_test_health)\n",
    "np.save('health_val_Kmeans_2.npy',health_val)\n",
    "np.save('health_val_Kmeans_label_2.npy',y_val_health)"
   ]
  },
  {
   "cell_type": "code",
   "execution_count": null,
   "id": "10ad3cb1",
   "metadata": {},
   "outputs": [],
   "source": []
  },
  {
   "cell_type": "code",
   "execution_count": null,
   "id": "2b91149a",
   "metadata": {},
   "outputs": [],
   "source": []
  }
 ],
 "metadata": {
  "kernelspec": {
   "display_name": "Python 3 (ipykernel)",
   "language": "python",
   "name": "python3"
  },
  "language_info": {
   "codemirror_mode": {
    "name": "ipython",
    "version": 3
   },
   "file_extension": ".py",
   "mimetype": "text/x-python",
   "name": "python",
   "nbconvert_exporter": "python",
   "pygments_lexer": "ipython3",
   "version": "3.7.9"
  }
 },
 "nbformat": 4,
 "nbformat_minor": 5
}
